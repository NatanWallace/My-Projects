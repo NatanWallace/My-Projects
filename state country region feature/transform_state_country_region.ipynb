{
 "cells": [
  {
   "cell_type": "code",
   "execution_count": 2,
   "id": "45513b26",
   "metadata": {
    "tags": []
   },
   "outputs": [],
   "source": [
    "import time\n",
    "import numpy as np\n",
    "import time\n",
    "import pandas as pd\n",
    "import re\n",
    "import datetime"
   ]
  },
  {
   "cell_type": "code",
   "execution_count": 3,
   "id": "54eb8283",
   "metadata": {
    "tags": []
   },
   "outputs": [
    {
     "name": "stdout",
     "output_type": "stream",
     "text": [
      "Elapsed time: 0.00295 seconds\n"
     ]
    }
   ],
   "source": [
    "\n",
    "start_time = time.time()\n",
    "\n",
    "\n",
    "\n",
    "# this feature will take the \"STATE/REGION\" and \"COUNTRY/REGION\" from hubspot\n",
    "# clean them from punctuatuion and wrongfuly imported data\n",
    "# output: Record ID, STATE/REGION (cleaned) , COUNTRY/REGION (cleaned), Continent (created based on the state and country)\n",
    "\n",
    "#Input option 1 - Redshift table synced from HS \"hs_contacts\"\n",
    "#Input option 2 - Exported CSV from HubSpot of Record ID, STATE/REGION, COUNTRY/REGION\n",
    "#select only Record ID, STATE/REGION, COUNTRY/REGION \n",
    "\"\"\"\n",
    "\n",
    "import awswrangler as wr\n",
    "\n",
    "con_redshift = wr.redshift.connect(\"redshift-cluster-matil\")\n",
    "\n",
    "hs_contacts = wr.redshift.read_sql_query(\"SELECT * FROM public.hs_contacts\", con=con_redshift)\n",
    "\n",
    "\n",
    "\"\"\"\n",
    "\n",
    "#func that will remove letters that are not in english\n",
    "\n",
    "\n",
    "\n",
    "def remove_diacritics(input_str):\n",
    "\n",
    "\n",
    "\n",
    "    # Replace English letters with diacritics with their corresponding plain English letters\n",
    "    input_str = re.sub(r\"ß\", \"ss\", input_str)\n",
    "    input_str = re.sub(r\"Š|š\", \"s\", input_str)\n",
    "    input_str = re.sub(r\"Ž|ž\", \"z\", input_str)\n",
    "    input_str = re.sub(r\"À|Á|Â|Ã|Ä|Å|à|á|â|ã|ä|å|æ\", \"a\", input_str)\n",
    "    input_str = re.sub(r\"æ|Æ\", \"ae\", input_str)\n",
    "    input_str = re.sub(r\"Ç|ç|Ç\", \"C\", input_str)\n",
    "    input_str = re.sub(r\"È|É|Ê|Ë|è|é|ê|ë|ë\", \"e\", input_str)\n",
    "    input_str = re.sub(r\"Ì|Í|Î|Ï|ì|í|î|ï\", \"i\", input_str)\n",
    "    input_str = re.sub(r\"Ð\", \"d\", input_str)\n",
    "    input_str = re.sub(r\"Ñ|ñ\", \"n\", input_str)\n",
    "    input_str = re.sub(r\"ð|ò|ó|ô|õ|ö|ø|Ò|Ó|Ô|Õ|Ö|Ø\", \"o\", input_str)\n",
    "    input_str = re.sub(r\"Ù|Ú|Û|Ü|ù|ú|û|ü\", \"u\", input_str)\n",
    "    input_str = re.sub(r\"Ý|ÿ\", \"y\", input_str)\n",
    "    input_str = re.sub(r\"Þ|þ\", \"th\", input_str)\n",
    "    input_str = re.sub(r\"ß\", \"ss\", input_str)\n",
    "    # Replace non-English letters with spaces\n",
    "    input_str = re.sub(r\"[^a-zA-Z\\s]\", \" \", input_str)\n",
    "\n",
    "\n",
    "    \n",
    "    return input_str.strip()\n",
    "\n",
    "\n",
    "\n",
    "\n",
    "#change long state name to abv for canada\n",
    "def replace_canada_state_name(row):\n",
    "    if pd.isna(row['State/Region']):\n",
    "        return row\n",
    "    for state, abv in canada_states.items():\n",
    "        if state in row['State/Region']:\n",
    "            row['State/Region'] = abv\n",
    "    return row\n",
    "\n",
    "\n",
    "\n",
    "#check if there is a us state in the country column, move it to the correct column and fix the country name\n",
    "def move_state_name(row):\n",
    "    if row['Country/Region'] in us_state_to_abbrev.values():\n",
    "        row['State/Region'] = row['Country/Region']\n",
    "        row['Country/Region'] = 'us'\n",
    "    return row\n",
    "\n",
    "\n",
    "\n",
    "# Define a function to look up the continent for a given country\n",
    "def get_continent(country):\n",
    "    for continent, countries in countries_continents.items():\n",
    "        if country in countries:\n",
    "            return continent\n",
    "    return None\n",
    "\n",
    "\n",
    "\n",
    "\n",
    "# United States of America Python Dictionary to translate States,\n",
    "# Districts & Territories to Two-Letter codes and vice versa.\n",
    "#\n",
    "# Canonical URL: https://gist.github.com/rogerallen/1583593\n",
    "#\n",
    "# Dedicated to the public domain.  To the extent possible under law,\n",
    "# Roger Allen has waived all copyright and related or neighboring\n",
    "# rights to this code.  Data originally from Wikipedia at the url:\n",
    "# https://en.wikipedia.org/wiki/ISO_3166-2:US\n",
    "#\n",
    "# Automatically Generated 2021-09-11 18:04:36 via Jupyter Notebook from\n",
    "# https://gist.github.com/rogerallen/d75440e8e5ea4762374dfd5c1ddf84e0 \n",
    "\n",
    "us_state_to_abbrev = {\n",
    "    \"alabama\": \"al\",\n",
    "    \"alaska\": \"ak\",\n",
    "    \"arizona\": \"az\",\n",
    "    \"arkansas\": \"ar\",\n",
    "    \"california\": \"ca\",\n",
    "    \"colorado\": \"co\",\n",
    "    \"connecticut\": \"ct\",\n",
    "    \"delaware\": \"de\",\n",
    "    \"florida\": \"fl\",\n",
    "    \"georgia\": \"ga\",\n",
    "    \"hawaii\": \"hi\",\n",
    "    \"idaho\": \"id\",\n",
    "    \"illinois\": \"il\",\n",
    "    \"indiana\": \"in\",\n",
    "    \"iowa\": \"ia\",\n",
    "    \"kansas\": \"ks\",\n",
    "    \"kentucky\": \"ky\",\n",
    "    \"louisiana\": \"la\",\n",
    "    \"maine\": \"me\",\n",
    "    \"maryland\": \"md\",\n",
    "    \"massachusetts\": \"ma\",\n",
    "    \"michigan\": \"mi\",\n",
    "    \"minnesota\": \"mn\",\n",
    "    \"mississippi\": \"ms\",\n",
    "    \"missouri\": \"mo\",\n",
    "    \"montana\": \"mt\",\n",
    "    \"nebraska\": \"ne\",\n",
    "    \"nevada\": \"nv\",\n",
    "    \"new hampshire\": \"nh\",\n",
    "    \"new jersey\": \"nj\",\n",
    "    \"new mexico\": \"nm\",\n",
    "    \"new york\": \"ny\",\n",
    "    \"north carolina\": \"nc\",\n",
    "    \"north dakota\": \"nd\",\n",
    "    \"ohio\": \"oh\",\n",
    "    \"oklahoma\": \"ok\",\n",
    "    \"oregon\": \"or\",\n",
    "    \"pennsylvania\": \"pa\",\n",
    "    \"rhode island\": \"ri\",\n",
    "    \"south carolina\": \"sc\",\n",
    "    \"south dakota\": \"sd\",\n",
    "    \"tennessee\": \"tn\",\n",
    "    \"texas\": \"tx\",\n",
    "    \"utah\": \"ut\",\n",
    "    \"vermont\": \"vt\",\n",
    "    \"virginia\": \"va\",\n",
    "    \"washington\": \"wa\",\n",
    "    \"west virginia\": \"wv\",\n",
    "    \"west va\": \"wv\",\n",
    "    \"wisconsin\": \"wi\",\n",
    "    \"wyoming\": \"wy\",\n",
    "    \"district of columbia\": \"dc\",\n",
    "    \"american samoa\": \"as\",\n",
    "    \"guam\": \"gu\",\n",
    "    \"northern mariana islands\": \"mp\",\n",
    "    \"puerto rico\": \"pr\",\n",
    "    \"united states minor outlying islands\": \"um\",\n",
    "    \"virgin islands\": \"vi\",\n",
    "}\n",
    "    \n",
    "# invert the dictionary\n",
    "abbrev_to_us_state = dict(map(reversed, us_state_to_abbrev.items()))\n",
    "\n",
    "\n",
    "\n",
    "us_uk_fix = {\n",
    "    \"united states\": \"us\",\n",
    "    \"usa\": \"us\",\n",
    "    \"united kingdom\": \"england\",\n",
    "}\n",
    "\n",
    "\n",
    "#canada states\n",
    "\n",
    "canada_states = {\n",
    "    'alberta': 'ab',\n",
    "    'british columbia': 'bc',\n",
    "    'manitoba': 'mb',\n",
    "    'new brunswick': 'nb',\n",
    "    'newfoundland and labrador': 'nl',\n",
    "    'northwest territories': 'nt',\n",
    "    'nova scotia': 'ns',\n",
    "    'nunavut': 'nu',\n",
    "    'ontario': 'on',\n",
    "    'prince edward island': 'pe',\n",
    "    'quebec': 'qc',\n",
    "    'saskatchewan': 'sk',\n",
    "    'yukon': 'yt'\n",
    "}\n",
    "\n",
    "\n",
    "#DICT of all country names and their continent \n",
    "countries_continents = {'africa': ['algeria', 'angola', 'benin', 'botswana', 'british indian ocean territory', 'burkina faso', 'burundi', 'cabo verde', 'cameroon', 'central african republic', 'chad', 'comoros', 'congo', 'côte d’ivoire', 'democratic republic of the congo', 'djibouti', 'egypt', 'equatorial guinea', 'eritrea', 'eswatini', 'ethiopia', 'french southern territories', 'gabon', 'gambia', 'ghana', 'guinea', 'guinea-bissau', 'kenya', 'lesotho', 'liberia', 'libya', 'madagascar', 'malawi', 'mali', 'mauritania', 'mauritius', 'mayotte', 'morocco', 'mozambique', 'namibia', 'niger', 'nigeria', 'réunion', 'rwanda', 'saint helena', 'sao tome and principe', 'senegal', 'seychelles', 'sierra leone', 'somalia', 'south africa', 'south sudan', 'sudan', 'togo', 'tunisia', 'uganda', 'united republic of tanzania', 'western sahara', 'zambia', 'zimbabwe'], \n",
    "                        'antarctica': ['antarctica'],\n",
    "                        'asia': ['afghanistan', 'armenia', 'azerbaijan', 'bahrain', 'bangladesh', 'bhutan', 'brunei darussalam', 'cambodia', 'china', 'hong kong', 'macao', 'cyprus', \"democratic people's republic of korea\", 'georgia', 'india', 'indonesia', 'iran ', 'iraq', 'israel', 'japan', 'jordan', 'kazakhstan', 'kuwait', 'kyrgyzstan', 'lao ', 'lebanon', 'malaysia', 'maldives', 'mongolia', 'myanmar', 'nepal', 'oman', 'pakistan', 'philippines', 'qatar', 'republic of korea', 'saudi arabia', 'singapore', 'sri lanka', 'state of palestine', 'syrian arab republic', 'tajikistan', 'thailand', 'timor-leste', 'turkey', 'turkmenistan', 'united arab emirates', 'uzbekistan', 'viet nam', 'yemen'],\n",
    "                        'europe': ['aland islands', 'albania', 'andorra', 'austria', 'belarus', 'belgium', 'bosnia and herzegovina', 'bulgaria', 'croatia', 'czechia', 'denmark', 'estonia', 'faroe islands', 'finland', 'france', 'germany', 'gibraltar', 'greece', 'guernsey', 'holy see', 'hungary', 'iceland', 'ireland', 'isle of man', 'italy', 'jersey', 'latvia', 'liechtenstein', 'lithuania', 'luxembourg', 'malta', 'monaco', 'montenegro', 'netherlands', 'north macedonia', 'norway', 'poland', 'portugal', 'republic of moldova', 'romania', 'russian federation', 'san marino', 'sark', 'serbia', 'slovakia', 'slovenia', 'spain', 'svalbard and jan mayen islands', 'sweden', 'switzerland', 'ukraine', 'united kingdom of great britain and northern ireland'],\n",
    "                        'north america': ['anguilla', 'antigua and barbuda', 'aruba', 'bahamas', 'barbados', 'belize', 'bermuda', 'bonaire, sint eustatius and saba', 'british virgin islands', 'canada', 'cayman islands', 'costa rica', 'cuba', 'curacao', 'dominica', 'dominican republic', 'el salvador', 'greenland', 'grenada', 'guadeloupe', 'guatemala', 'haiti', 'honduras', 'jamaica', 'martinique', 'mexico', 'montserrat', 'nicaragua', 'panama', 'puerto rico', 'saint barthélemy', 'saint kitts and nevis', 'saint lucia', 'saint martin', 'saint pierre and miquelon', 'saint vincent and the grenadines', 'sint maarten', 'trinidad and tobago', 'turks and caicos islands', 'us', 'united states virgin islands'],\n",
    "                        'oceania': ['american samoa', 'australia', 'christmas island', 'cocos  islands', 'cook islands', 'fiji', 'french polynesia', 'guam', 'heard island and mcdonald islands', 'kiribati', 'marshall islands', 'micronesia', 'nauru', 'new caledonia', 'new zealand', 'niue', 'norfolk island', 'northern mariana islands', 'palau', 'papua new guinea', 'pitcairn', 'samoa', 'solomon islands', 'tokelau', 'tonga', 'tuvalu', 'united states minor outlying islands', 'vanuatu', 'wallis and futuna islands'],\n",
    "                        'south america': ['argentina', 'bolivia', 'bouvet island', 'brazil', 'chile', 'colombia', 'ecuador', 'falkland islands', 'french guiana', 'guyana', 'paraguay', 'peru', 'south georgia and the south sandwich islands', 'suriname', 'uruguay', 'venezuela']}\n",
    "\n",
    "end_time = time.time()\n",
    "\n",
    "elapsed_time = end_time - start_time\n",
    "print(f\"Elapsed time: {elapsed_time:.5f} seconds\")"
   ]
  },
  {
   "cell_type": "code",
   "execution_count": 4,
   "id": "c3a89ce4",
   "metadata": {
    "tags": []
   },
   "outputs": [],
   "source": [
    "df = pd.read_csv('hs_uuid_state_country.csv')"
   ]
  },
  {
   "cell_type": "code",
   "execution_count": 6,
   "id": "81a7d49d",
   "metadata": {
    "tags": []
   },
   "outputs": [
    {
     "name": "stdout",
     "output_type": "stream",
     "text": [
      "Elapsed time lowercase: 0.12707 seconds\n",
      "Elapsed time remove_diacritics: 2.19844 seconds\n",
      "Elapsed time fix_abv: 9.17683 seconds\n",
      "Elapsed time total: 16.63732 seconds\n",
      "Number of unique values in uuid: 99307\n",
      "Number of unique values in State/Region: 345\n",
      "Number of unique values in Country/Region: 129\n",
      "Number of unique values in Continent: 6\n"
     ]
    }
   ],
   "source": [
    "\n",
    "\n",
    "start_time = time.time()\n",
    "\n",
    "cols_to_copy = ['uuid', 'State/Region','Country/Region']\n",
    "\n",
    "# create a new DataFrame with the selected columns\n",
    "hs_contacts_state_country = df.loc[:, cols_to_copy].copy()\n",
    "\n",
    "\n",
    "# make lower and clean from punctuations\n",
    "start_time_lowercase = time.time()\n",
    "hs_contacts_state_country[\"State/Region\"] = hs_contacts_state_country[\"State/Region\"].astype(str)\n",
    "hs_contacts_state_country[\"Country/Region\"]= hs_contacts_state_country[\"Country/Region\"].astype(str)\n",
    "\n",
    "\n",
    "hs_contacts_state_country[\"State/Region\"] = hs_contacts_state_country[\"State/Region\"].str.lower().str.strip()\n",
    "hs_contacts_state_country[\"Country/Region\"] = hs_contacts_state_country[\"Country/Region\"].str.lower().str.strip()\n",
    "\n",
    "\n",
    "end_time_lowercase = time.time()\n",
    "elapsed_time_lowercase = end_time_lowercase - start_time_lowercase\n",
    "print(f\"Elapsed time lowercase: {elapsed_time_lowercase:.5f} seconds\")\n",
    "\n",
    "#letters not in english\n",
    "\n",
    "start_time_remove_diacritics = time.time()\n",
    "\n",
    "hs_contacts_state_country[\"State/Region\"] = hs_contacts_state_country[\"State/Region\"].apply(remove_diacritics)\n",
    "hs_contacts_state_country[\"Country/Region\"] = hs_contacts_state_country[\"Country/Region\"].apply(remove_diacritics)\n",
    "\n",
    "end_time_remove_diacritics = time.time()\n",
    "elapsed_time_remove_diacritics = end_time_remove_diacritics - start_time_remove_diacritics\n",
    "print(f\"Elapsed time remove_diacritics: {elapsed_time_remove_diacritics:.5f} seconds\")\n",
    "\n",
    "\n",
    "#change long state name to abv for us and canada\n",
    "start_time_fix_abv = time.time()\n",
    "\n",
    "hs_contacts_state_country['State/Region'] = hs_contacts_state_country['State/Region'].replace(us_state_to_abbrev)\n",
    "\n",
    "\n",
    "hs_contacts_state_country = hs_contacts_state_country.apply(replace_canada_state_name, axis=1)\n",
    "\n",
    "#clean country - change united states to US, UK/united kingdom to england\n",
    "\n",
    "hs_contacts_state_country['Country/Region'] = hs_contacts_state_country['Country/Region'].replace(us_uk_fix)\n",
    "\n",
    "#change all countries to US and Canada if they have a state\n",
    "\n",
    "hs_contacts_state_country.loc[hs_contacts_state_country['State/Region'].isin(list(us_state_to_abbrev.values())), 'Country/Region'] = 'us'\n",
    "hs_contacts_state_country.loc[hs_contacts_state_country['State/Region'].isin(list(canada_states.values())), 'Country/Region'] = 'canada'\n",
    "\n",
    "#if there is a us state in the country change it to us and put the state in the state column\n",
    "\n",
    "hs_contacts_state_country.loc[hs_contacts_state_country['Country/Region'].isin(list(us_state_to_abbrev.values())), 'Country/Region'] = 'us'\n",
    "\n",
    "\n",
    "end_time_fix_abv = time.time()\n",
    "elapsed_time_fix_abv = end_time_fix_abv - start_time_fix_abv\n",
    "print(f\"Elapsed time fix_abv: {elapsed_time_fix_abv:.5f} seconds\")\n",
    "\n",
    "#check if there is a name of a country in the state column\n",
    "hs_contacts_state_country = hs_contacts_state_country.apply(move_state_name, axis=1)\n",
    "\n",
    "### create a dict to use for mapping the region - new project\n",
    "\n",
    "\n",
    "\n",
    "\n",
    "###\n",
    "\n",
    "end_time = time.time()\n",
    "\n",
    "#fix nan string in country or state\n",
    "hs_contacts_state_country['State/Region'] = hs_contacts_state_country['State/Region'].replace('nan', '')\n",
    "hs_contacts_state_country['Country/Region'] = hs_contacts_state_country['Country/Region'].replace('nan', '')\n",
    "\n",
    "#Add the continent of each country\n",
    "hs_contacts_state_country['Continent'] = hs_contacts_state_country['Country/Region'].apply(get_continent)\n",
    "\n",
    "elapsed_time_total = end_time - start_time\n",
    "print(f\"Elapsed time total: {elapsed_time_total:.5f} seconds\")\n",
    "\n",
    "for column in hs_contacts_state_country.columns:\n",
    "    num_unique = hs_contacts_state_country[column].nunique()\n",
    "    print(f\"Number of unique values in {column}: {num_unique}\")\n",
    "\n"
   ]
  },
  {
   "cell_type": "code",
   "execution_count": 7,
   "id": "39d8b3f2",
   "metadata": {
    "tags": []
   },
   "outputs": [
    {
     "name": "stdout",
     "output_type": "stream",
     "text": [
      "Number of unique values in uuid: 99307\n",
      "Number of unique values in State/Region: 478\n",
      "Number of unique values in Country/Region: 158\n"
     ]
    }
   ],
   "source": [
    "for column in df.columns:\n",
    "    num_unique = df[column].nunique()\n",
    "    print(f\"Number of unique values in {column}: {num_unique}\")"
   ]
  },
  {
   "cell_type": "code",
   "execution_count": 8,
   "id": "bc54fef8",
   "metadata": {
    "tags": []
   },
   "outputs": [
    {
     "name": "stdout",
     "output_type": "stream",
     "text": [
      "When ignoring lowercase, calculating letter changes\n",
      "Column uuid has 0 cells with changes.\n",
      "Column State/Region has 28310 cells with changes.\n",
      "Column Country/Region has 70127 cells with changes.\n"
     ]
    }
   ],
   "source": [
    "#CHECK THE AFFECTED COLUMNS\n",
    "df1 = df.copy()\n",
    "\n",
    "df1[\"State/Region\"] = df1[\"State/Region\"].astype(str)\n",
    "df1[\"Country/Region\"]= df1[\"Country/Region\"].astype(str)\n",
    "\n",
    "df1[\"State/Region\"] = df1[\"State/Region\"].str.lower().str.strip()\n",
    "df1[\"Country/Region\"] = df1[\"Country/Region\"].str.lower().str.strip()\n",
    "\n",
    "print('When ignoring lowercase, calculating letter changes')\n",
    "for col in hs_contacts_state_country.columns:\n",
    "    if col not in df1.columns:\n",
    "        continue  # skip columns that are not in the old dataframe\n",
    "    num_changes = (df1[col] != hs_contacts_state_country[col]).sum()\n",
    "    print(f'Column {col} has {num_changes} cells with changes.')\n"
   ]
  },
  {
   "cell_type": "markdown",
   "id": "807cd004",
   "metadata": {},
   "source": [
    "## Save output to CSV"
   ]
  },
  {
   "cell_type": "code",
   "execution_count": 9,
   "id": "d027e088",
   "metadata": {
    "tags": []
   },
   "outputs": [],
   "source": [
    "timestamp = datetime.datetime.now().strftime('%Y%m%d%H%M%S')\n",
    "hs_contacts_state_country.to_csv(f'/Users/natanwallace/My-Projects/output/update_state_country_{timestamp}.csv')\n"
   ]
  },
  {
   "cell_type": "code",
   "execution_count": 9,
   "id": "3a12f400",
   "metadata": {},
   "outputs": [],
   "source": [
    "total_unique_cells = df[\"State/Region\"].nunique() +  df[\"Country/Region\"].nunique()"
   ]
  },
  {
   "cell_type": "code",
   "execution_count": 10,
   "id": "6e8f4200",
   "metadata": {
    "tags": []
   },
   "outputs": [],
   "source": [
    "comparison_df = {\n",
    "    'dataset': ['original data on hs', 'new output'],\n",
    "    'unique_record_id': [df['uuid'].nunique(), hs_contacts_state_country['uuid'].nunique()],\n",
    "    'unique_record_state': [df[\"State/Region\"].nunique(), hs_contacts_state_country[\"State/Region\"].nunique()],\n",
    "    'unique_record_country': [df[\"Country/Region\"].nunique(), hs_contacts_state_country[\"Country/Region\"].nunique()]\n",
    "}\n",
    "\n",
    "comparison_df = pd.DataFrame(comparison_df)"
   ]
  },
  {
   "cell_type": "code",
   "execution_count": 11,
   "id": "94033541",
   "metadata": {
    "tags": []
   },
   "outputs": [
    {
     "data": {
      "text/html": [
       "<div>\n",
       "<style scoped>\n",
       "    .dataframe tbody tr th:only-of-type {\n",
       "        vertical-align: middle;\n",
       "    }\n",
       "\n",
       "    .dataframe tbody tr th {\n",
       "        vertical-align: top;\n",
       "    }\n",
       "\n",
       "    .dataframe thead th {\n",
       "        text-align: right;\n",
       "    }\n",
       "</style>\n",
       "<table border=\"1\" class=\"dataframe\">\n",
       "  <thead>\n",
       "    <tr style=\"text-align: right;\">\n",
       "      <th></th>\n",
       "      <th>dataset</th>\n",
       "      <th>unique_record_id</th>\n",
       "      <th>unique_record_state</th>\n",
       "      <th>unique_record_country</th>\n",
       "    </tr>\n",
       "  </thead>\n",
       "  <tbody>\n",
       "    <tr>\n",
       "      <th>0</th>\n",
       "      <td>original data on hs</td>\n",
       "      <td>99307</td>\n",
       "      <td>478</td>\n",
       "      <td>158</td>\n",
       "    </tr>\n",
       "    <tr>\n",
       "      <th>1</th>\n",
       "      <td>new output</td>\n",
       "      <td>99307</td>\n",
       "      <td>345</td>\n",
       "      <td>129</td>\n",
       "    </tr>\n",
       "  </tbody>\n",
       "</table>\n",
       "</div>"
      ],
      "text/plain": [
       "               dataset  unique_record_id  unique_record_state  \\\n",
       "0  original data on hs             99307                  478   \n",
       "1           new output             99307                  345   \n",
       "\n",
       "   unique_record_country  \n",
       "0                    158  \n",
       "1                    129  "
      ]
     },
     "execution_count": 11,
     "metadata": {},
     "output_type": "execute_result"
    }
   ],
   "source": [
    "comparison_df"
   ]
  },
  {
   "cell_type": "markdown",
   "id": "d0c412d9",
   "metadata": {},
   "source": [
    "## Save comparison "
   ]
  },
  {
   "cell_type": "code",
   "execution_count": 13,
   "id": "e7ab2f76",
   "metadata": {
    "tags": []
   },
   "outputs": [],
   "source": [
    "timestamp = datetime.datetime.now().strftime('%Y%m%d%H%M%S')\n",
    "comparison_df.to_csv(f'/Users/natanwallace/My-Projects/output/comparison_df{timestamp}.csv')"
   ]
  },
  {
   "cell_type": "code",
   "execution_count": 14,
   "id": "4d020f25",
   "metadata": {
    "tags": []
   },
   "outputs": [],
   "source": [
    "#percent that changed\n",
    "num_changes_state = (df1[\"State/Region\"] != hs_contacts_state_country[\"State/Region\"]).sum()\n",
    "num_changes_country = (df1[\"Country/Region\"] != hs_contacts_state_country[\"Country/Region\"]).sum()"
   ]
  },
  {
   "cell_type": "code",
   "execution_count": 15,
   "id": "c139d048",
   "metadata": {
    "tags": []
   },
   "outputs": [
    {
     "data": {
      "text/plain": [
       "28310"
      ]
     },
     "execution_count": 15,
     "metadata": {},
     "output_type": "execute_result"
    }
   ],
   "source": [
    "num_changes_state"
   ]
  },
  {
   "cell_type": "code",
   "execution_count": 16,
   "id": "c3d6c8eb",
   "metadata": {
    "tags": []
   },
   "outputs": [
    {
     "data": {
      "text/plain": [
       "70127"
      ]
     },
     "execution_count": 16,
     "metadata": {},
     "output_type": "execute_result"
    }
   ],
   "source": [
    "num_changes_country"
   ]
  },
  {
   "cell_type": "code",
   "execution_count": 18,
   "id": "80be3dd0",
   "metadata": {
    "tags": []
   },
   "outputs": [],
   "source": [
    "percente_of_cell_affected_state = (num_changes_state / df[\"State/Region\"].count())"
   ]
  },
  {
   "cell_type": "code",
   "execution_count": 19,
   "id": "98f702fd",
   "metadata": {
    "tags": []
   },
   "outputs": [],
   "source": [
    "percente_of_cell_affected_country = (num_changes_country / df[\"Country/Region\"].count())"
   ]
  },
  {
   "cell_type": "code",
   "execution_count": 20,
   "id": "44859570",
   "metadata": {
    "tags": []
   },
   "outputs": [
    {
     "data": {
      "text/html": [
       "<div>\n",
       "<style scoped>\n",
       "    .dataframe tbody tr th:only-of-type {\n",
       "        vertical-align: middle;\n",
       "    }\n",
       "\n",
       "    .dataframe tbody tr th {\n",
       "        vertical-align: top;\n",
       "    }\n",
       "\n",
       "    .dataframe thead th {\n",
       "        text-align: right;\n",
       "    }\n",
       "</style>\n",
       "<table border=\"1\" class=\"dataframe\">\n",
       "  <thead>\n",
       "    <tr style=\"text-align: right;\">\n",
       "      <th></th>\n",
       "      <th>type</th>\n",
       "      <th>original_data_row_count</th>\n",
       "      <th>new_data_affected_rows</th>\n",
       "      <th>percent_of_affected_rows</th>\n",
       "    </tr>\n",
       "  </thead>\n",
       "  <tbody>\n",
       "    <tr>\n",
       "      <th>0</th>\n",
       "      <td>state</td>\n",
       "      <td>74242</td>\n",
       "      <td>28310</td>\n",
       "      <td>0.381321</td>\n",
       "    </tr>\n",
       "    <tr>\n",
       "      <th>1</th>\n",
       "      <td>country</td>\n",
       "      <td>84483</td>\n",
       "      <td>70127</td>\n",
       "      <td>0.830072</td>\n",
       "    </tr>\n",
       "  </tbody>\n",
       "</table>\n",
       "</div>"
      ],
      "text/plain": [
       "      type  original_data_row_count  new_data_affected_rows  \\\n",
       "0    state                    74242                   28310   \n",
       "1  country                    84483                   70127   \n",
       "\n",
       "   percent_of_affected_rows  \n",
       "0                  0.381321  \n",
       "1                  0.830072  "
      ]
     },
     "execution_count": 20,
     "metadata": {},
     "output_type": "execute_result"
    }
   ],
   "source": [
    "affected_cells_df = {\n",
    "    'type': ['state', 'country'],\n",
    "    'original_data_row_count': [df[\"State/Region\"].count(), df[\"Country/Region\"].count()],\n",
    "    'new_data_affected_rows': [num_changes_state, num_changes_country],\n",
    "    'percent_of_affected_rows': [percente_of_cell_affected_state, percente_of_cell_affected_country]\n",
    "}\n",
    "\n",
    "affected_cells_df = pd.DataFrame(affected_cells_df)\n",
    "affected_cells_df"
   ]
  },
  {
   "cell_type": "markdown",
   "id": "63c54982",
   "metadata": {},
   "source": [
    "## Save affected cells CSV"
   ]
  },
  {
   "cell_type": "code",
   "execution_count": 21,
   "id": "6b1ffedc",
   "metadata": {
    "tags": []
   },
   "outputs": [],
   "source": [
    "timestamp = datetime.datetime.now().strftime('%Y%m%d%H%M%S')\n",
    "affected_cells_df.to_csv(f'/Users/natanwallace/My-Projects/output/affected_cells_{timestamp}.csv')"
   ]
  },
  {
   "cell_type": "code",
   "execution_count": 17,
   "id": "8ca63762",
   "metadata": {},
   "outputs": [
    {
     "data": {
      "text/html": [
       "<div>\n",
       "<style scoped>\n",
       "    .dataframe tbody tr th:only-of-type {\n",
       "        vertical-align: middle;\n",
       "    }\n",
       "\n",
       "    .dataframe tbody tr th {\n",
       "        vertical-align: top;\n",
       "    }\n",
       "\n",
       "    .dataframe thead th {\n",
       "        text-align: right;\n",
       "    }\n",
       "</style>\n",
       "<table border=\"1\" class=\"dataframe\">\n",
       "  <thead>\n",
       "    <tr style=\"text-align: right;\">\n",
       "      <th></th>\n",
       "      <th>uuid</th>\n",
       "      <th>State/Region</th>\n",
       "      <th>Country/Region</th>\n",
       "      <th>Continent</th>\n",
       "    </tr>\n",
       "  </thead>\n",
       "  <tbody>\n",
       "    <tr>\n",
       "      <th>0</th>\n",
       "      <td>66131bdd-ecb3-4eb8-baee-0330d6fedc37</td>\n",
       "      <td>md</td>\n",
       "      <td>us</td>\n",
       "      <td>north america</td>\n",
       "    </tr>\n",
       "    <tr>\n",
       "      <th>1</th>\n",
       "      <td>1cb984e8-ec78-49d1-bcd3-f8e62982a669</td>\n",
       "      <td></td>\n",
       "      <td>china</td>\n",
       "      <td>asia</td>\n",
       "    </tr>\n",
       "    <tr>\n",
       "      <th>2</th>\n",
       "      <td>865e63c1-5260-47e2-a3d9-08d17e05fe00</td>\n",
       "      <td>md</td>\n",
       "      <td>us</td>\n",
       "      <td>north america</td>\n",
       "    </tr>\n",
       "    <tr>\n",
       "      <th>3</th>\n",
       "      <td>029ccfc6-2836-4231-bec2-9ce5f1c204ec</td>\n",
       "      <td>tx</td>\n",
       "      <td>us</td>\n",
       "      <td>north america</td>\n",
       "    </tr>\n",
       "    <tr>\n",
       "      <th>4</th>\n",
       "      <td>66d75e3b-e8d3-4ec9-bb05-5e26aa259324</td>\n",
       "      <td>nj</td>\n",
       "      <td>us</td>\n",
       "      <td>north america</td>\n",
       "    </tr>\n",
       "    <tr>\n",
       "      <th>...</th>\n",
       "      <td>...</td>\n",
       "      <td>...</td>\n",
       "      <td>...</td>\n",
       "      <td>...</td>\n",
       "    </tr>\n",
       "    <tr>\n",
       "      <th>99302</th>\n",
       "      <td>ec8cfd01-0303-4abd-b90c-15ec5642ede6</td>\n",
       "      <td>on</td>\n",
       "      <td>canada</td>\n",
       "      <td>north america</td>\n",
       "    </tr>\n",
       "    <tr>\n",
       "      <th>99303</th>\n",
       "      <td>7d1d50ef-c71f-4f55-a59a-0be0b487355a</td>\n",
       "      <td>on</td>\n",
       "      <td>canada</td>\n",
       "      <td>north america</td>\n",
       "    </tr>\n",
       "    <tr>\n",
       "      <th>99304</th>\n",
       "      <td>701e412e-cd0f-4b5b-a64b-fa8993d46eaa</td>\n",
       "      <td>on</td>\n",
       "      <td>canada</td>\n",
       "      <td>north america</td>\n",
       "    </tr>\n",
       "    <tr>\n",
       "      <th>99305</th>\n",
       "      <td>2b73df3e-09be-4b2a-94a2-5532ccc5ac7b</td>\n",
       "      <td>on</td>\n",
       "      <td>canada</td>\n",
       "      <td>north america</td>\n",
       "    </tr>\n",
       "    <tr>\n",
       "      <th>99306</th>\n",
       "      <td>f5123216-6d65-4257-82d9-ef751d6c938b</td>\n",
       "      <td>id</td>\n",
       "      <td>us</td>\n",
       "      <td>north america</td>\n",
       "    </tr>\n",
       "  </tbody>\n",
       "</table>\n",
       "<p>99307 rows × 4 columns</p>\n",
       "</div>"
      ],
      "text/plain": [
       "                                       uuid State/Region Country/Region  \\\n",
       "0      66131bdd-ecb3-4eb8-baee-0330d6fedc37           md             us   \n",
       "1      1cb984e8-ec78-49d1-bcd3-f8e62982a669                       china   \n",
       "2      865e63c1-5260-47e2-a3d9-08d17e05fe00           md             us   \n",
       "3      029ccfc6-2836-4231-bec2-9ce5f1c204ec           tx             us   \n",
       "4      66d75e3b-e8d3-4ec9-bb05-5e26aa259324           nj             us   \n",
       "...                                     ...          ...            ...   \n",
       "99302  ec8cfd01-0303-4abd-b90c-15ec5642ede6           on         canada   \n",
       "99303  7d1d50ef-c71f-4f55-a59a-0be0b487355a           on         canada   \n",
       "99304  701e412e-cd0f-4b5b-a64b-fa8993d46eaa           on         canada   \n",
       "99305  2b73df3e-09be-4b2a-94a2-5532ccc5ac7b           on         canada   \n",
       "99306  f5123216-6d65-4257-82d9-ef751d6c938b           id             us   \n",
       "\n",
       "           Continent  \n",
       "0      north america  \n",
       "1               asia  \n",
       "2      north america  \n",
       "3      north america  \n",
       "4      north america  \n",
       "...              ...  \n",
       "99302  north america  \n",
       "99303  north america  \n",
       "99304  north america  \n",
       "99305  north america  \n",
       "99306  north america  \n",
       "\n",
       "[99307 rows x 4 columns]"
      ]
     },
     "execution_count": 17,
     "metadata": {},
     "output_type": "execute_result"
    }
   ],
   "source": [
    "hs_contacts_state_country"
   ]
  },
  {
   "cell_type": "markdown",
   "id": "4cd48f86",
   "metadata": {},
   "source": [
    "### count old states"
   ]
  },
  {
   "cell_type": "code",
   "execution_count": 32,
   "id": "b0175613",
   "metadata": {},
   "outputs": [],
   "source": [
    "old_states = pd.DataFrame(df['State/Region'])\n",
    "old_states = old_states.replace('', np.nan).dropna()\n",
    "count_old_states = old_states['State/Region'].dropna().value_counts().reset_index()\n",
    "count_old_states.columns = ['State/Region', 'count']"
   ]
  },
  {
   "cell_type": "code",
   "execution_count": 33,
   "id": "e1bf679a",
   "metadata": {},
   "outputs": [],
   "source": [
    "timestamp = datetime.datetime.now().strftime('%Y%m%d%H%M%S')\n",
    "count_old_states.to_csv(f'/Users/natanwallace/My-Projects/output/count_old_states_{timestamp}.csv')"
   ]
  },
  {
   "cell_type": "markdown",
   "id": "50731e6a",
   "metadata": {},
   "source": [
    "### count old countries"
   ]
  },
  {
   "cell_type": "code",
   "execution_count": 34,
   "id": "6a47207a",
   "metadata": {},
   "outputs": [],
   "source": [
    "old_countries = pd.DataFrame(df['Country/Region'])\n",
    "old_countries = old_countries.replace('', np.nan).dropna()\n",
    "count_old_countries = old_countries['Country/Region'].dropna().value_counts().reset_index()\n",
    "count_old_countries.columns = ['Country/Region', 'count']"
   ]
  },
  {
   "cell_type": "code",
   "execution_count": 35,
   "id": "e094aecb",
   "metadata": {},
   "outputs": [],
   "source": [
    "timestamp = datetime.datetime.now().strftime('%Y%m%d%H%M%S')\n",
    "count_old_countries.to_csv(f'/Users/natanwallace/My-Projects/output/count_old_countries_{timestamp}.csv')"
   ]
  },
  {
   "cell_type": "markdown",
   "id": "8cf47ed0",
   "metadata": {},
   "source": [
    "### count new states"
   ]
  },
  {
   "cell_type": "code",
   "execution_count": 36,
   "id": "3826f592",
   "metadata": {},
   "outputs": [],
   "source": [
    "new_states = pd.DataFrame(hs_contacts_state_country['State/Region'])\n",
    "new_states = new_states.replace('', np.nan).dropna()\n",
    "count_new_states = new_states['State/Region'].dropna().value_counts().reset_index()\n",
    "count_new_states.columns = ['State/Region', 'count']"
   ]
  },
  {
   "cell_type": "code",
   "execution_count": 37,
   "id": "f203d360",
   "metadata": {},
   "outputs": [],
   "source": [
    "timestamp = datetime.datetime.now().strftime('%Y%m%d%H%M%S')\n",
    "count_new_states.to_csv(f'/Users/natanwallace/My-Projects/output/count_new_states_{timestamp}.csv')"
   ]
  },
  {
   "cell_type": "markdown",
   "id": "4979aada",
   "metadata": {},
   "source": [
    "### count new countries"
   ]
  },
  {
   "cell_type": "code",
   "execution_count": 38,
   "id": "bd7e7594",
   "metadata": {},
   "outputs": [],
   "source": [
    "new_countries = pd.DataFrame(hs_contacts_state_country['Country/Region'])\n",
    "new_countries = new_countries.replace('', np.nan).dropna()\n",
    "count_new_countries = new_countries['Country/Region'].dropna().value_counts().reset_index()\n",
    "count_new_countries.columns = ['Country/Region', 'count']"
   ]
  },
  {
   "cell_type": "code",
   "execution_count": 39,
   "id": "d508b31f",
   "metadata": {},
   "outputs": [],
   "source": [
    "timestamp = datetime.datetime.now().strftime('%Y%m%d%H%M%S')\n",
    "count_new_countries.to_csv(f'/Users/natanwallace/My-Projects/output/count_new_countries_{timestamp}.csv')"
   ]
  },
  {
   "cell_type": "code",
   "execution_count": null,
   "id": "7beb3730",
   "metadata": {},
   "outputs": [],
   "source": []
  }
 ],
 "metadata": {
  "kernelspec": {
   "display_name": "Python 3 (ipykernel)",
   "language": "python",
   "name": "python3"
  },
  "language_info": {
   "codemirror_mode": {
    "name": "ipython",
    "version": 3
   },
   "file_extension": ".py",
   "mimetype": "text/x-python",
   "name": "python",
   "nbconvert_exporter": "python",
   "pygments_lexer": "ipython3",
   "version": "3.9.13"
  }
 },
 "nbformat": 4,
 "nbformat_minor": 5
}
