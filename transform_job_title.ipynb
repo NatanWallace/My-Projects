{
 "cells": [
  {
   "cell_type": "code",
   "execution_count": 11,
   "id": "d6fefa02",
   "metadata": {},
   "outputs": [],
   "source": [
    "\n",
    "import time\n",
    "import numpy as np\n",
    "import pandas as pd\n",
    "\n",
    "start = time.time()\n",
    "start\n",
    "\n",
    "\n",
    "\n",
    "\n",
    "job_titles_from_hs = pd.read_csv(f'job_titles_from_hs.csv',  encoding= 'unicode_escape')#, low_memory=False)\n",
    "#df = df.fillna('')\n",
    "job_titles_from_hs.rename(columns={'ï»¿Job Title': 'job_title'}, inplace=True)\n",
    "\n"
   ]
  },
  {
   "cell_type": "code",
   "execution_count": 67,
   "id": "24a1c555",
   "metadata": {},
   "outputs": [
    {
     "name": "stdout",
     "output_type": "stream",
     "text": [
      "3365.162591934204\n",
      "2.738658905029297\n",
      "2.9379169940948486\n",
      "7.990004062652588\n",
      "3378.829337835312\n",
      "there are 42 simple titles\n",
      "0.9296188354492188\n"
     ]
    }
   ],
   "source": [
    "###WORKING!!!\n",
    "\n",
    "df_1 = job_titles_from_hs.copy()\n",
    "\n",
    "df_1[\"job_title_no_punc\"] = \"\"\n",
    "\n",
    "df_1['job_title_no_punc'] = df_1['job_title'].str.replace('[^a-zA-Z0-9\\s]',' ', regex=True)\n",
    "df_1['job_title_no_punc'] = df_1['job_title_no_punc'].replace(np.nan, \"\")\n",
    "df_1['job_title_no_punc_but_with_upper'] = df_1['job_title_no_punc']\n",
    "df_1['job_title_no_punc']= df_1['job_title_no_punc'].str.lower()\n",
    "df_1[\"extended_job_title\"] = df_1['job_title_no_punc']\n",
    "df_1[\"simple_job_title\"] = \"\"\n",
    "df = df_1.copy()\n",
    "\n",
    "step1 = time.time()\n",
    "print(step1 - start)\n",
    "\n",
    "job_title_dict = {\n",
    "\n",
    "    'co-founder' : 'co founder ',\n",
    "    'cofounder' : 'co founder ',\n",
    "    'co_founder' : 'co founder ',\n",
    "    'bud tender' : 'budtender ',\n",
    "    'chair ' : 'chairman '\n",
    "}\n",
    "\n",
    "for row in range(len(df['extended_job_title'])):\n",
    "    for i, j in job_title_dict.items():\n",
    "        if i in df['extended_job_title'][row]:\n",
    "            df['extended_job_title'][row] = df['extended_job_title'][row].replace(i, j)\n",
    "\n",
    "   \n",
    "step2 = time.time()\n",
    "print(step2 - step1)\n",
    "\n",
    "df['extended_job_title'] = df['extended_job_title'].replace(fr'(?<!\\S)ceo(?!\\S)', 'chief executive officer', regex=True)\n",
    "df['extended_job_title'] = df['extended_job_title'].replace(fr'(?<!\\S)cco(?!\\S)', 'chief compliance officer', regex=True)\n",
    "df['extended_job_title'] = df['extended_job_title'].replace(fr'(?<!\\S)chro(?!\\S)', 'chief human resources officer', regex=True)\n",
    "df['extended_job_title'] = df['extended_job_title'].replace(fr'(?<!\\S)cso(?!\\S)', 'chief security officer', regex=True)\n",
    "df['extended_job_title'] = df['extended_job_title'].replace(fr'(?<!\\S)cgo(?!\\S)', 'chief green officer', regex=True)\n",
    "df['extended_job_title'] = df['extended_job_title'].replace(fr'(?<!\\S)cao(?!\\S)', 'chief analytics officer', regex=True)\n",
    "df['extended_job_title'] = df['extended_job_title'].replace(fr'(?<!\\S)cmo(?!\\S)', 'chief marketing officer', regex=True)\n",
    "df['extended_job_title'] = df['extended_job_title'].replace(fr'(?<!\\S)cdo(?!\\S)', 'chief data/design officer', regex=True)\n",
    "df['extended_job_title'] = df['extended_job_title'].replace(fr'(?<!\\S)cfo(?!\\S)', 'chief financial officer', regex=True)\n",
    "df['extended_job_title'] = df['extended_job_title'].replace(fr'(?<!\\S)cio(?!\\S)', 'chief information officer', regex=True)\n",
    "df['extended_job_title'] = df['extended_job_title'].replace(fr'(?<!\\S)gc(?!\\S)', 'general counsel', regex=True)\n",
    "df['extended_job_title'] = df['extended_job_title'].replace(fr'(?<!\\S)gm(?!\\S)', 'general manager', regex=True)\n",
    "df['extended_job_title'] = df['extended_job_title'].replace(fr'(?<!\\S)cto(?!\\S)', 'chief technology officer', regex=True)\n",
    "df['extended_job_title'] = df['extended_job_title'].replace(fr'(?<!\\S)cpo(?!\\S)', 'chief product officer', regex=True)\n",
    "df['extended_job_title'] = df['extended_job_title'].replace(fr'(?<!\\S)cxo(?!\\S)', 'chief experience officer', regex=True)\n",
    "df['extended_job_title'] = df['extended_job_title'].replace(fr'(?<!\\S)vp(?!\\S)', 'vice president', regex=True)\n",
    "df['extended_job_title'] = df['extended_job_title'].replace(fr'(?<!\\S)svp(?!\\S)', 'senior vice president', regex=True)\n",
    "df['extended_job_title'] = df['extended_job_title'].replace(fr'(?<!\\S)s(?!\\S) vice president(?!\\S)', 'senior vice president', regex=True)\n",
    "df['extended_job_title'] = df['extended_job_title'].replace(fr'(?<!\\S)coo(?!\\S)', 'chief operating officer', regex=True)\n",
    "\n",
    "            \n",
    "            \n",
    "step3 = time.time()\n",
    "print(step3 - step2)\n",
    "\n",
    "job_title_dict = {\n",
    "    'chief compliance officer ' : 'cco' ,\n",
    "    'chief human resources officer ' :'chro' ,\n",
    "    'chief security officer ' :'cso',\n",
    "    'chief green officer ' :'cgo',\n",
    "    'chief analytics officer ' :'cao',\n",
    "    'chief marketing officer ' :'cmo',\n",
    "    'chief data/design  officer ' : 'cdo',\n",
    "    'chief financial officer ' :'cfo',\n",
    "    'chief operating officer ' :'coo',\n",
    "    'chief information officer ' :'cio',\n",
    "    'general counsel ' :'gc',\n",
    "    'general manager ' :'gm',\n",
    "    'chief technology officer ' :'cto',\n",
    "    'chief product officer ' :'cpo',\n",
    "    'chief experience officer ' :'cxo',\n",
    "    'chief executive officer ' : 'ceo',\n",
    "    'co founder ' : ' co_founder'}\n",
    "    \n",
    "\n",
    "for i, j in job_title_dict.items():\n",
    "    for row in range(len(df['extended_job_title'])):    \n",
    "        if j == df['extended_job_title'][row]:\n",
    "            df['extended_job_title'][row] = df['extended_job_title'][row].replace(j, i)\n",
    "            continue\n",
    "\n",
    "step4 = time.time()\n",
    "print(step4 - step3)  \n",
    "\n",
    "end = time.time()\n",
    "print(end - start)\n",
    "\n",
    "\n",
    "list_of_titles=['manager',\n",
    " 'director',\n",
    " 'chief',\n",
    " 'officer',\n",
    " 'executive',\n",
    " 'president',\n",
    " 'founder',\n",
    " 'partner',\n",
    " 'vice',\n",
    " 'marketing',\n",
    " 'sales',\n",
    " 'senior',\n",
    " 'managing',\n",
    " 'owner',\n",
    " 'financial',\n",
    " 'business',\n",
    " 'operations',\n",
    " 'associate',\n",
    " 'assistant',\n",
    " 'development',\n",
    " 'specialist',\n",
    " 'advisor',\n",
    " 'investment',\n",
    " 'operating',\n",
    " 'consultant',\n",
    " 'principal',\n",
    " 'analyst',\n",
    " 'coordinator',\n",
    " 'engineer',\n",
    " 'head',\n",
    " 'member',\n",
    " 'product',\n",
    " 'research',\n",
    " 'compliance',\n",
    " 'management',\n",
    " 'hr',\n",
    " 'chairman',\n",
    " 'lead',\n",
    " 'attorney',\n",
    " 'representative',\n",
    " 'cultivation',\n",
    " 'technician']\n",
    "print(f'there are {len(list_of_titles)} simple titles')   \n",
    "\n",
    "# loop over the job titles and append a semicolon separator between the matched titles\n",
    "for i in list_of_titles:\n",
    "    mask = df['extended_job_title'].str.contains(i, regex=False)\n",
    "    df.loc[mask, 'simple_job_title'] += i + ';'\n",
    "\n",
    "# strip the last semicolon from each value in the 'simple_job_title' column\n",
    "df['simple_job_title'] = df['simple_job_title'].str.rstrip(';')\n",
    "\n",
    "step5 = time.time()\n",
    "print(step5 - step4)   \n",
    "\n",
    "df = df.applymap(lambda x: x.strip() if isinstance(x, str) else x)\n"
   ]
  },
  {
   "cell_type": "code",
   "execution_count": null,
   "id": "75d3fec5",
   "metadata": {
    "jupyter": {
     "source_hidden": true
    }
   },
   "outputs": [],
   "source": [
    "\n",
    "list_of_titles = ['advisor',\n",
    "                 'president',\n",
    "                 'partner',\n",
    "                 'analyst',\n",
    "                 'academic',\n",
    "                 'founder',\n",
    "                 'owner',\n",
    "                 'director',\n",
    "                 'consultant',\n",
    "                 'executive',\n",
    "                 'supervisor',\n",
    "                 'specialist',\n",
    "                 'agent',\n",
    "                 'investor',\n",
    "                 'attorney',\n",
    "                 'board',\n",
    "                 'representative',\n",
    "                 'ambassador',\n",
    "                 'broker',\n",
    "                 'budtender',\n",
    "                 'chairman',\n",
    "                 'administrator',\n",
    "                 'co founder',\n",
    "                 'controller',\n",
    "                 'technician',\n",
    "                 'driver',\n",
    "                 'counsel',\n",
    "                 'head of',\n",
    "                 'intern',\n",
    "                 'coordinator',\n",
    "                 'chief',\n",
    "                 'associate',\n",
    "                 'officer',\n",
    "                 'principal',\n",
    "                 'manager',\n",
    "                 'vice president',\n",
    "                 'assistant',\n",
    "                 'specialist',\n",
    "                 'engineer']\n",
    "print(f'there are {len(list_of_titles)} titles')            \n",
    "            \n",
    "            \n",
    "for i in list_of_titles:\n",
    "    df.loc[df['extended_job_title'].str.contains(i,regex=False), 'simple_job_title'] = i    \n",
    "\n",
    "step5 = time.time()\n",
    "print(step5 - step4)     \n"
   ]
  },
  {
   "cell_type": "markdown",
   "id": "67e88e37",
   "metadata": {},
   "source": [
    "Data Manipulation         \n",
    "v Append with ; \n",
    "v Data analysis of the titles.\n",
    "v Break down to words of the extended\n",
    "Create an bar chart of the top 50 words\n",
    "Eliminate noise\n",
    "V Append with ; to the title short list\n",
    "Create tableau presenting the difference"
   ]
  },
  {
   "cell_type": "code",
   "execution_count": 4,
   "id": "27cbef13",
   "metadata": {},
   "outputs": [],
   "source": [
    "#check_unique_titlesbmn\n",
    "#unique_extended\n",
    "#join_all_titles and make historgram off all words, groupby count desc"
   ]
  },
  {
   "cell_type": "code",
   "execution_count": 65,
   "id": "c84cd511",
   "metadata": {},
   "outputs": [],
   "source": [
    "df = df.applymap(lambda x: x.strip() if isinstance(x, str) else x)\n"
   ]
  },
  {
   "cell_type": "code",
   "execution_count": 68,
   "id": "9ebf2b9c",
   "metadata": {},
   "outputs": [
    {
     "data": {
      "text/html": [
       "<div>\n",
       "<style scoped>\n",
       "    .dataframe tbody tr th:only-of-type {\n",
       "        vertical-align: middle;\n",
       "    }\n",
       "\n",
       "    .dataframe tbody tr th {\n",
       "        vertical-align: top;\n",
       "    }\n",
       "\n",
       "    .dataframe thead th {\n",
       "        text-align: right;\n",
       "    }\n",
       "</style>\n",
       "<table border=\"1\" class=\"dataframe\">\n",
       "  <thead>\n",
       "    <tr style=\"text-align: right;\">\n",
       "      <th></th>\n",
       "      <th>job_title</th>\n",
       "      <th>job_title_no_punc</th>\n",
       "      <th>job_title_no_punc_but_with_upper</th>\n",
       "      <th>extended_job_title</th>\n",
       "      <th>simple_job_title</th>\n",
       "    </tr>\n",
       "  </thead>\n",
       "  <tbody>\n",
       "    <tr>\n",
       "      <th>0</th>\n",
       "      <td>Director</td>\n",
       "      <td>director</td>\n",
       "      <td>Director</td>\n",
       "      <td>director</td>\n",
       "      <td>director</td>\n",
       "    </tr>\n",
       "    <tr>\n",
       "      <th>1</th>\n",
       "      <td>-</td>\n",
       "      <td></td>\n",
       "      <td></td>\n",
       "      <td></td>\n",
       "      <td></td>\n",
       "    </tr>\n",
       "    <tr>\n",
       "      <th>2</th>\n",
       "      <td>CEO / Head Cultivator / Mycologist</td>\n",
       "      <td>ceo   head cultivator   mycologist</td>\n",
       "      <td>CEO   Head Cultivator   Mycologist</td>\n",
       "      <td>chief executive officer   head cultivator   my...</td>\n",
       "      <td>chief;officer;executive;head</td>\n",
       "    </tr>\n",
       "    <tr>\n",
       "      <th>3</th>\n",
       "      <td>-</td>\n",
       "      <td></td>\n",
       "      <td></td>\n",
       "      <td></td>\n",
       "      <td></td>\n",
       "    </tr>\n",
       "    <tr>\n",
       "      <th>4</th>\n",
       "      <td>Outreach Account Manager</td>\n",
       "      <td>outreach account manager</td>\n",
       "      <td>Outreach Account Manager</td>\n",
       "      <td>outreach account manager</td>\n",
       "      <td>manager</td>\n",
       "    </tr>\n",
       "    <tr>\n",
       "      <th>...</th>\n",
       "      <td>...</td>\n",
       "      <td>...</td>\n",
       "      <td>...</td>\n",
       "      <td>...</td>\n",
       "      <td>...</td>\n",
       "    </tr>\n",
       "    <tr>\n",
       "      <th>99214</th>\n",
       "      <td>CEO</td>\n",
       "      <td>ceo</td>\n",
       "      <td>CEO</td>\n",
       "      <td>chief executive officer</td>\n",
       "      <td>chief;officer;executive</td>\n",
       "    </tr>\n",
       "    <tr>\n",
       "      <th>99215</th>\n",
       "      <td>Investor Relations Manager</td>\n",
       "      <td>investor relations manager</td>\n",
       "      <td>Investor Relations Manager</td>\n",
       "      <td>investor relations manager</td>\n",
       "      <td>manager</td>\n",
       "    </tr>\n",
       "    <tr>\n",
       "      <th>99216</th>\n",
       "      <td>CEO &amp; Co-Founder</td>\n",
       "      <td>ceo   co founder</td>\n",
       "      <td>CEO   Co Founder</td>\n",
       "      <td>chief executive officer   co founder</td>\n",
       "      <td>chief;officer;executive;founder</td>\n",
       "    </tr>\n",
       "    <tr>\n",
       "      <th>99217</th>\n",
       "      <td>President and Co-Founder</td>\n",
       "      <td>president and co founder</td>\n",
       "      <td>President and Co Founder</td>\n",
       "      <td>president and co founder</td>\n",
       "      <td>president;founder</td>\n",
       "    </tr>\n",
       "    <tr>\n",
       "      <th>99218</th>\n",
       "      <td>CEO</td>\n",
       "      <td>ceo</td>\n",
       "      <td>CEO</td>\n",
       "      <td>chief executive officer</td>\n",
       "      <td>chief;officer;executive</td>\n",
       "    </tr>\n",
       "  </tbody>\n",
       "</table>\n",
       "<p>99219 rows × 5 columns</p>\n",
       "</div>"
      ],
      "text/plain": [
       "                                job_title                   job_title_no_punc  \\\n",
       "0                                Director                            director   \n",
       "1                                       -                                       \n",
       "2      CEO / Head Cultivator / Mycologist  ceo   head cultivator   mycologist   \n",
       "3                                       -                                       \n",
       "4                Outreach Account Manager            outreach account manager   \n",
       "...                                   ...                                 ...   \n",
       "99214                                 CEO                                 ceo   \n",
       "99215          Investor Relations Manager          investor relations manager   \n",
       "99216                    CEO & Co-Founder                    ceo   co founder   \n",
       "99217            President and Co-Founder            president and co founder   \n",
       "99218                                 CEO                                 ceo   \n",
       "\n",
       "         job_title_no_punc_but_with_upper  \\\n",
       "0                                Director   \n",
       "1                                           \n",
       "2      CEO   Head Cultivator   Mycologist   \n",
       "3                                           \n",
       "4                Outreach Account Manager   \n",
       "...                                   ...   \n",
       "99214                                 CEO   \n",
       "99215          Investor Relations Manager   \n",
       "99216                    CEO   Co Founder   \n",
       "99217            President and Co Founder   \n",
       "99218                                 CEO   \n",
       "\n",
       "                                      extended_job_title  \\\n",
       "0                                               director   \n",
       "1                                                          \n",
       "2      chief executive officer   head cultivator   my...   \n",
       "3                                                          \n",
       "4                               outreach account manager   \n",
       "...                                                  ...   \n",
       "99214                            chief executive officer   \n",
       "99215                         investor relations manager   \n",
       "99216               chief executive officer   co founder   \n",
       "99217                           president and co founder   \n",
       "99218                            chief executive officer   \n",
       "\n",
       "                      simple_job_title  \n",
       "0                             director  \n",
       "1                                       \n",
       "2         chief;officer;executive;head  \n",
       "3                                       \n",
       "4                              manager  \n",
       "...                                ...  \n",
       "99214          chief;officer;executive  \n",
       "99215                          manager  \n",
       "99216  chief;officer;executive;founder  \n",
       "99217                president;founder  \n",
       "99218          chief;officer;executive  \n",
       "\n",
       "[99219 rows x 5 columns]"
      ]
     },
     "execution_count": 68,
     "metadata": {},
     "output_type": "execute_result"
    }
   ],
   "source": [
    "df"
   ]
  },
  {
   "cell_type": "code",
   "execution_count": 70,
   "id": "62ac7f2f",
   "metadata": {},
   "outputs": [
    {
     "name": "stdout",
     "output_type": "stream",
     "text": [
      " There are 35130 unique titles in job_title\n",
      " There are 34483 unique titles in job_title_no_punc_but_with_upper\n",
      " There are 33543 unique titles in job_title_no_punc\n",
      " There are 33165 unique titles in extended_job_title\n"
     ]
    }
   ],
   "source": [
    "print(f' There are {df[\"job_title\"].nunique()} unique titles in job_title')\n",
    "print(f' There are {df[\"job_title_no_punc_but_with_upper\"].nunique()} unique titles in job_title_no_punc_but_with_upper')\n",
    "print(f' There are {df[\"job_title_no_punc\"].nunique()} unique titles in job_title_no_punc')\n",
    "print(f' There are {df[\"extended_job_title\"].nunique()} unique titles in extended_job_title')\n"
   ]
  },
  {
   "cell_type": "code",
   "execution_count": null,
   "id": "71881daa",
   "metadata": {},
   "outputs": [],
   "source": []
  },
  {
   "cell_type": "code",
   "execution_count": 71,
   "id": "157e3754",
   "metadata": {},
   "outputs": [
    {
     "name": "stdout",
     "output_type": "stream",
     "text": [
      "cleaning punc applied to 25341 rows\n"
     ]
    }
   ],
   "source": [
    "mask = df['job_title_no_punc_but_with_upper'] != df['job_title']\n",
    "\n",
    "print(f'cleaning punc applied to {mask.sum()} rows')"
   ]
  },
  {
   "cell_type": "code",
   "execution_count": 32,
   "id": "cc64395f",
   "metadata": {},
   "outputs": [
    {
     "name": "stdout",
     "output_type": "stream",
     "text": [
      "extending the abvs applied to 8271 rows\n"
     ]
    }
   ],
   "source": [
    "mask = df['job_title_no_punc'] != df['extended_job_title']\n",
    "\n",
    "print(f'extending the abvs applied to {mask.sum()} rows')"
   ]
  },
  {
   "cell_type": "code",
   "execution_count": 72,
   "id": "02610ea3",
   "metadata": {},
   "outputs": [
    {
     "name": "stdout",
     "output_type": "stream",
     "text": [
      "extending the abvs applied to 98267 rows\n"
     ]
    }
   ],
   "source": [
    "mask = df['job_title'] != df['extended_job_title']\n",
    "\n",
    "print(f'extending the abvs applied to {mask.sum()} rows')"
   ]
  },
  {
   "cell_type": "code",
   "execution_count": 33,
   "id": "a7478a0f",
   "metadata": {},
   "outputs": [
    {
     "data": {
      "text/plain": [
       "owner                      1865\n",
       "partner                    1822\n",
       "ceo                        1781\n",
       "chief executive officer    1703\n",
       "president                  1523\n",
       "managing director          1420\n",
       "founder                    1391\n",
       "director                   1182\n",
       "co founder                 1176\n",
       "director of marketing      1089\n",
       "managing partner           1016\n",
       "general manager             955\n",
       "manager                     871\n",
       "chief financial officer     863\n",
       "vice president              833\n",
       "marketing director          717\n",
       "chief operating officer     654\n",
       "principal                   594\n",
       "hr manager                  475\n",
       "founder   ceo               471\n",
       "Name: job_title_no_punc, dtype: int64"
      ]
     },
     "execution_count": 33,
     "metadata": {},
     "output_type": "execute_result"
    }
   ],
   "source": [
    "df['job_title_no_punc'].value_counts().head(20)\n"
   ]
  },
  {
   "cell_type": "code",
   "execution_count": 34,
   "id": "49ca1bc1",
   "metadata": {},
   "outputs": [
    {
     "data": {
      "text/plain": [
       "chief executive officer              3484\n",
       "owner                                1865\n",
       "partner                              1822\n",
       "president                            1523\n",
       "managing director                    1420\n",
       "founder                              1391\n",
       "co founder                           1246\n",
       "director                             1182\n",
       "director of marketing                1089\n",
       "chief financial officer              1085\n",
       "general manager                      1059\n",
       "managing partner                     1016\n",
       "chief operating officer              1010\n",
       "vice president                        930\n",
       "manager                               871\n",
       "marketing director                    717\n",
       "principal                             594\n",
       "founder   chief executive officer     519\n",
       "hr manager                            475\n",
       "account manager                       422\n",
       "Name: extended_job_title, dtype: int64"
      ]
     },
     "execution_count": 34,
     "metadata": {},
     "output_type": "execute_result"
    }
   ],
   "source": [
    "df['extended_job_title'].value_counts().head(20)"
   ]
  },
  {
   "cell_type": "markdown",
   "id": "d603beb7",
   "metadata": {},
   "source": [
    "# still not perfect"
   ]
  },
  {
   "cell_type": "code",
   "execution_count": 35,
   "id": "8b6f382b",
   "metadata": {},
   "outputs": [
    {
     "data": {
      "text/plain": [
       "manager             16778\n",
       "director            15248\n",
       "chief               14146\n",
       "officer             13930\n",
       "executive            9857\n",
       "                    ...  \n",
       "cookware                1\n",
       "appliances              1\n",
       "vikk                    1\n",
       "pharmacogenomics        1\n",
       "rank                    1\n",
       "Length: 8230, dtype: int64"
      ]
     },
     "execution_count": 35,
     "metadata": {},
     "output_type": "execute_result"
    }
   ],
   "source": [
    "\n",
    "# concatenate all text data into a single string\n",
    "text = ' '.join(df['extended_job_title'])\n",
    "\n",
    "# convert string to lowercase and split into words\n",
    "words = text.split()\n",
    "\n",
    "# create a series from the list of words and count the frequency of each word\n",
    "word_counts = pd.Series(words).value_counts()\n",
    "word_counts\n",
    "# get the top 5 most frequent words\n",
    "#top_words = word_counts.head(5)\n",
    "\n",
    "# print the result\n",
    "#print(top_words)"
   ]
  },
  {
   "cell_type": "code",
   "execution_count": 38,
   "id": "a74e8789",
   "metadata": {},
   "outputs": [
    {
     "data": {
      "text/plain": [
       "manager           16778\n",
       "director          15248\n",
       "chief             14146\n",
       "officer           13930\n",
       "executive          9857\n",
       "president          8952\n",
       "founder            7895\n",
       "of                 7824\n",
       "partner            5723\n",
       "vice               5502\n",
       "marketing          5348\n",
       "and                5170\n",
       "sales              4726\n",
       "senior             4674\n",
       "managing           4569\n",
       "co                 4214\n",
       "owner              4182\n",
       "financial          3143\n",
       "business           2879\n",
       "operations         2852\n",
       "associate          2687\n",
       "assistant          2666\n",
       "development        2588\n",
       "specialist         2390\n",
       "advisor            2319\n",
       "general            2304\n",
       "account            1901\n",
       "investment         1731\n",
       "operating          1707\n",
       "consultant         1585\n",
       "principal          1568\n",
       "analyst            1335\n",
       "wealth             1302\n",
       "coordinator        1269\n",
       "engineer           1200\n",
       "head               1188\n",
       "member             1165\n",
       "project            1119\n",
       "product            1113\n",
       "research           1055\n",
       "cannabis           1041\n",
       "compliance          973\n",
       "management          966\n",
       "hr                  946\n",
       "chairman            923\n",
       "lead                918\n",
       "attorney            866\n",
       "representative      848\n",
       "cultivation         821\n",
       "technician          808\n",
       "dtype: int64"
      ]
     },
     "execution_count": 38,
     "metadata": {},
     "output_type": "execute_result"
    }
   ],
   "source": [
    "word_counts.head(50)"
   ]
  },
  {
   "cell_type": "code",
   "execution_count": 51,
   "id": "8533babf",
   "metadata": {},
   "outputs": [
    {
     "name": "stdout",
     "output_type": "stream",
     "text": [
      "there are 42 titles\n",
      "1.1064209938049316\n"
     ]
    }
   ],
   "source": [
    "step4 = time.time()\n",
    "\n",
    "list_of_titles=['manager',\n",
    " 'director',\n",
    " 'chief',\n",
    " 'officer',\n",
    " 'executive',\n",
    " 'president',\n",
    " 'founder',\n",
    " 'partner',\n",
    " 'vice',\n",
    " 'marketing',\n",
    " 'sales',\n",
    " 'senior',\n",
    " 'managing',\n",
    " 'owner',\n",
    " 'financial',\n",
    " 'business',\n",
    " 'operations',\n",
    " 'associate',\n",
    " 'assistant',\n",
    " 'development',\n",
    " 'specialist',\n",
    " 'advisor',\n",
    " 'investment',\n",
    " 'operating',\n",
    " 'consultant',\n",
    " 'principal',\n",
    " 'analyst',\n",
    " 'coordinator',\n",
    " 'engineer',\n",
    " 'head',\n",
    " 'member',\n",
    " 'product',\n",
    " 'research',\n",
    " 'compliance',\n",
    " 'management',\n",
    " 'hr',\n",
    " 'chairman',\n",
    " 'lead',\n",
    " 'attorney',\n",
    " 'representative',\n",
    " 'cultivation',\n",
    " 'technician']\n",
    "print(f'there are {len(list_of_titles)} titles')   \n",
    "\n",
    "# loop over the job titles and append a semicolon separator between the matched titles\n",
    "for i in list_of_titles:\n",
    "    mask = df['extended_job_title'].str.contains(i, regex=False)\n",
    "    df.loc[mask, 'simple_job_title'] += i + ';'\n",
    "\n",
    "# strip the last semicolon from each value in the 'simple_job_title' column\n",
    "df['simple_job_title'] = df['simple_job_title'].str.rstrip(';')\n",
    "\n",
    "step5 = time.time()\n",
    "print(step5 - step4)     \n"
   ]
  },
  {
   "cell_type": "markdown",
   "id": "fe9aa4aa",
   "metadata": {},
   "source": [
    "# need to address VP issue"
   ]
  },
  {
   "cell_type": "markdown",
   "id": "960ee113",
   "metadata": {},
   "source": [
    "# add the ceo etc"
   ]
  },
  {
   "cell_type": "code",
   "execution_count": null,
   "id": "1ec82a03",
   "metadata": {},
   "outputs": [],
   "source": []
  },
  {
   "cell_type": "code",
   "execution_count": null,
   "id": "236d76eb",
   "metadata": {},
   "outputs": [],
   "source": []
  },
  {
   "cell_type": "code",
   "execution_count": 58,
   "id": "ef4c91f7",
   "metadata": {},
   "outputs": [
    {
     "data": {
      "text/plain": [
       "87208"
      ]
     },
     "execution_count": 58,
     "metadata": {},
     "output_type": "execute_result"
    }
   ],
   "source": [
    "(df['simple_job_title'].str.len() > 0).sum()"
   ]
  },
  {
   "cell_type": "code",
   "execution_count": 59,
   "id": "3d4a895d",
   "metadata": {},
   "outputs": [
    {
     "data": {
      "text/plain": [
       "99146"
      ]
     },
     "execution_count": 59,
     "metadata": {},
     "output_type": "execute_result"
    }
   ],
   "source": [
    "(df['extended_job_title'].str.len() > 0).sum()"
   ]
  },
  {
   "cell_type": "code",
   "execution_count": 62,
   "id": "bb8a95b0",
   "metadata": {},
   "outputs": [
    {
     "name": "stdout",
     "output_type": "stream",
     "text": [
      "The simple job title covers 87.95917132309927 percent of the data\n"
     ]
    }
   ],
   "source": [
    "print(f'The simple job title covers {87208/99146*100} percent of the data')"
   ]
  },
  {
   "cell_type": "code",
   "execution_count": 57,
   "id": "77dbc7bf",
   "metadata": {},
   "outputs": [
    {
     "data": {
      "text/plain": [
       "str"
      ]
     },
     "execution_count": 57,
     "metadata": {},
     "output_type": "execute_result"
    }
   ],
   "source": [
    "type(df.at[3, 'simple_job_title'])"
   ]
  },
  {
   "cell_type": "code",
   "execution_count": 52,
   "id": "cc23beb4",
   "metadata": {},
   "outputs": [
    {
     "data": {
      "text/html": [
       "<div>\n",
       "<style scoped>\n",
       "    .dataframe tbody tr th:only-of-type {\n",
       "        vertical-align: middle;\n",
       "    }\n",
       "\n",
       "    .dataframe tbody tr th {\n",
       "        vertical-align: top;\n",
       "    }\n",
       "\n",
       "    .dataframe thead th {\n",
       "        text-align: right;\n",
       "    }\n",
       "</style>\n",
       "<table border=\"1\" class=\"dataframe\">\n",
       "  <thead>\n",
       "    <tr style=\"text-align: right;\">\n",
       "      <th></th>\n",
       "      <th>job_title</th>\n",
       "      <th>job_title_no_punc</th>\n",
       "      <th>simple_job_title</th>\n",
       "      <th>extended_job_title</th>\n",
       "    </tr>\n",
       "  </thead>\n",
       "  <tbody>\n",
       "    <tr>\n",
       "      <th>0</th>\n",
       "      <td>Director</td>\n",
       "      <td>director</td>\n",
       "      <td>directordirector;director</td>\n",
       "      <td>director</td>\n",
       "    </tr>\n",
       "    <tr>\n",
       "      <th>1</th>\n",
       "      <td>-</td>\n",
       "      <td></td>\n",
       "      <td></td>\n",
       "      <td></td>\n",
       "    </tr>\n",
       "    <tr>\n",
       "      <th>2</th>\n",
       "      <td>CEO / Head Cultivator / Mycologist</td>\n",
       "      <td>ceo   head cultivator   mycologist</td>\n",
       "      <td>chief;officer;executive;headchief;officer;exec...</td>\n",
       "      <td>chief executive officer   head cultivator   my...</td>\n",
       "    </tr>\n",
       "    <tr>\n",
       "      <th>3</th>\n",
       "      <td>-</td>\n",
       "      <td></td>\n",
       "      <td></td>\n",
       "      <td></td>\n",
       "    </tr>\n",
       "    <tr>\n",
       "      <th>4</th>\n",
       "      <td>Outreach Account Manager</td>\n",
       "      <td>outreach account manager</td>\n",
       "      <td>managermanager;manager</td>\n",
       "      <td>outreach account manager</td>\n",
       "    </tr>\n",
       "    <tr>\n",
       "      <th>...</th>\n",
       "      <td>...</td>\n",
       "      <td>...</td>\n",
       "      <td>...</td>\n",
       "      <td>...</td>\n",
       "    </tr>\n",
       "    <tr>\n",
       "      <th>99214</th>\n",
       "      <td>CEO</td>\n",
       "      <td>ceo</td>\n",
       "      <td>chief;officer;executivechief;officer;executive...</td>\n",
       "      <td>chief executive officer</td>\n",
       "    </tr>\n",
       "    <tr>\n",
       "      <th>99215</th>\n",
       "      <td>Investor Relations Manager</td>\n",
       "      <td>investor relations manager</td>\n",
       "      <td>managermanager;manager</td>\n",
       "      <td>investor relations manager</td>\n",
       "    </tr>\n",
       "    <tr>\n",
       "      <th>99216</th>\n",
       "      <td>CEO &amp; Co-Founder</td>\n",
       "      <td>ceo   co founder</td>\n",
       "      <td>chief;officer;executive;founderchief;officer;e...</td>\n",
       "      <td>chief executive officer   co founder</td>\n",
       "    </tr>\n",
       "    <tr>\n",
       "      <th>99217</th>\n",
       "      <td>President and Co-Founder</td>\n",
       "      <td>president and co founder</td>\n",
       "      <td>president;founderpresident;founder;president;f...</td>\n",
       "      <td>president and co founder</td>\n",
       "    </tr>\n",
       "    <tr>\n",
       "      <th>99218</th>\n",
       "      <td>CEO</td>\n",
       "      <td>ceo</td>\n",
       "      <td>chief;officer;executivechief;officer;executive...</td>\n",
       "      <td>chief executive officer</td>\n",
       "    </tr>\n",
       "  </tbody>\n",
       "</table>\n",
       "<p>99219 rows × 4 columns</p>\n",
       "</div>"
      ],
      "text/plain": [
       "                                job_title                   job_title_no_punc  \\\n",
       "0                                Director                            director   \n",
       "1                                       -                                       \n",
       "2      CEO / Head Cultivator / Mycologist  ceo   head cultivator   mycologist   \n",
       "3                                       -                                       \n",
       "4                Outreach Account Manager            outreach account manager   \n",
       "...                                   ...                                 ...   \n",
       "99214                                 CEO                                 ceo   \n",
       "99215          Investor Relations Manager          investor relations manager   \n",
       "99216                    CEO & Co-Founder                    ceo   co founder   \n",
       "99217            President and Co-Founder            president and co founder   \n",
       "99218                                 CEO                                 ceo   \n",
       "\n",
       "                                        simple_job_title  \\\n",
       "0                              directordirector;director   \n",
       "1                                                          \n",
       "2      chief;officer;executive;headchief;officer;exec...   \n",
       "3                                                          \n",
       "4                                 managermanager;manager   \n",
       "...                                                  ...   \n",
       "99214  chief;officer;executivechief;officer;executive...   \n",
       "99215                             managermanager;manager   \n",
       "99216  chief;officer;executive;founderchief;officer;e...   \n",
       "99217  president;founderpresident;founder;president;f...   \n",
       "99218  chief;officer;executivechief;officer;executive...   \n",
       "\n",
       "                                      extended_job_title  \n",
       "0                                               director  \n",
       "1                                                         \n",
       "2      chief executive officer   head cultivator   my...  \n",
       "3                                                         \n",
       "4                               outreach account manager  \n",
       "...                                                  ...  \n",
       "99214                            chief executive officer  \n",
       "99215                         investor relations manager  \n",
       "99216               chief executive officer   co founder  \n",
       "99217                           president and co founder  \n",
       "99218                            chief executive officer  \n",
       "\n",
       "[99219 rows x 4 columns]"
      ]
     },
     "execution_count": 52,
     "metadata": {},
     "output_type": "execute_result"
    }
   ],
   "source": [
    "df"
   ]
  },
  {
   "cell_type": "code",
   "execution_count": 44,
   "id": "86f4432b",
   "metadata": {},
   "outputs": [
    {
     "data": {
      "text/plain": [
       "99219"
      ]
     },
     "execution_count": 44,
     "metadata": {},
     "output_type": "execute_result"
    }
   ],
   "source": [
    "df['simple_job_title'].notnull().sum()\n"
   ]
  },
  {
   "cell_type": "code",
   "execution_count": 45,
   "id": "b2ec1cf4",
   "metadata": {},
   "outputs": [
    {
     "data": {
      "text/plain": [
       "99219"
      ]
     },
     "execution_count": 45,
     "metadata": {},
     "output_type": "execute_result"
    }
   ],
   "source": [
    "df['simple_job_title'].notna().sum()"
   ]
  },
  {
   "cell_type": "code",
   "execution_count": 46,
   "id": "1bc7f86b",
   "metadata": {},
   "outputs": [
    {
     "data": {
      "text/plain": [
       "99219"
      ]
     },
     "execution_count": 46,
     "metadata": {},
     "output_type": "execute_result"
    }
   ],
   "source": [
    "df['simple_job_title'].str.strip().notnull().sum()\n"
   ]
  },
  {
   "cell_type": "code",
   "execution_count": 47,
   "id": "be843d9d",
   "metadata": {},
   "outputs": [
    {
     "name": "stdout",
     "output_type": "stream",
     "text": [
      "0                               director\n",
      "1                                       \n",
      "2           chief;officer;executive;head\n",
      "3                                       \n",
      "4                                manager\n",
      "                      ...               \n",
      "99214            chief;officer;executive\n",
      "99215                            manager\n",
      "99216    chief;officer;executive;founder\n",
      "99217                  president;founder\n",
      "99218            chief;officer;executive\n",
      "Name: simple_job_title, Length: 99219, dtype: object\n"
     ]
    }
   ],
   "source": [
    "print(df['simple_job_title'])"
   ]
  },
  {
   "cell_type": "code",
   "execution_count": 48,
   "id": "8973cf65",
   "metadata": {},
   "outputs": [
    {
     "data": {
      "text/plain": [
       "168764"
      ]
     },
     "execution_count": 48,
     "metadata": {},
     "output_type": "execute_result"
    }
   ],
   "source": [
    "df['simple_job_title'].str.split(';').apply(lambda x: len([s for s in x if s])).sum()"
   ]
  },
  {
   "cell_type": "code",
   "execution_count": 73,
   "id": "d982e3a7",
   "metadata": {},
   "outputs": [
    {
     "data": {
      "text/plain": [
       "[('chief executive officer', 7290),\n",
       " ('chief operating officer', 1645),\n",
       " ('chief financial officer', 1534),\n",
       " ('founder chief executive', 1419),\n",
       " ('director of marketing', 1212),\n",
       " ('executive officer chief', 1154),\n",
       " ('officer chief executive', 1045),\n",
       " ('vice president of', 938),\n",
       " ('senior vice president', 918),\n",
       " ('co founder chief', 850),\n",
       " ('officer co founder', 829),\n",
       " ('president chief executive', 702),\n",
       " ('manager director of', 686),\n",
       " ('chief investment officer', 651),\n",
       " ('executive officer founder', 646),\n",
       " ('executive officer co', 559),\n",
       " ('manager chief executive', 547),\n",
       " ('officer vice president', 547),\n",
       " ('manager vice president', 500),\n",
       " ('officer director of', 495)]"
      ]
     },
     "execution_count": 73,
     "metadata": {},
     "output_type": "execute_result"
    }
   ],
   "source": [
    "counts = {}\n",
    "\n",
    "# iterate over each group of three consecutive words\n",
    "for i in range(len(words) - 2):\n",
    "    group = ' '.join(words[i:i+3])\n",
    "    if group not in counts:\n",
    "        counts[group] = 1\n",
    "    else:\n",
    "        counts[group] += 1\n",
    "\n",
    "# find the twenty most common three-word groups\n",
    "top_twenty = sorted(counts.items(), key=lambda x: x[1], reverse=True)[:20]\n",
    "top_twenty"
   ]
  },
  {
   "cell_type": "code",
   "execution_count": null,
   "id": "7914ffe6",
   "metadata": {},
   "outputs": [],
   "source": []
  }
 ],
 "metadata": {
  "kernelspec": {
   "display_name": "Python 3 (ipykernel)",
   "language": "python",
   "name": "python3"
  },
  "language_info": {
   "codemirror_mode": {
    "name": "ipython",
    "version": 3
   },
   "file_extension": ".py",
   "mimetype": "text/x-python",
   "name": "python",
   "nbconvert_exporter": "python",
   "pygments_lexer": "ipython3",
   "version": "3.9.13"
  }
 },
 "nbformat": 4,
 "nbformat_minor": 5
}
